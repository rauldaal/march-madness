{
 "cells": [
  {
   "cell_type": "markdown",
   "metadata": {},
   "source": [
    "Veamos una primera vista del dataset"
   ]
  },
  {
   "cell_type": "code",
   "execution_count": 1,
   "metadata": {},
   "outputs": [
    {
     "data": {
      "text/html": [
       "<div>\n",
       "<style scoped>\n",
       "    .dataframe tbody tr th:only-of-type {\n",
       "        vertical-align: middle;\n",
       "    }\n",
       "\n",
       "    .dataframe tbody tr th {\n",
       "        vertical-align: top;\n",
       "    }\n",
       "\n",
       "    .dataframe thead th {\n",
       "        text-align: right;\n",
       "    }\n",
       "</style>\n",
       "<table border=\"1\" class=\"dataframe\">\n",
       "  <thead>\n",
       "    <tr style=\"text-align: right;\">\n",
       "      <th></th>\n",
       "      <th>Season</th>\n",
       "      <th>DayNum</th>\n",
       "      <th>WTeamID</th>\n",
       "      <th>WScore</th>\n",
       "      <th>LTeamID</th>\n",
       "      <th>LScore</th>\n",
       "      <th>WLoc</th>\n",
       "      <th>NumOT</th>\n",
       "      <th>WFGM</th>\n",
       "      <th>WFGA</th>\n",
       "      <th>...</th>\n",
       "      <th>LFGA3</th>\n",
       "      <th>LFTM</th>\n",
       "      <th>LFTA</th>\n",
       "      <th>LOR</th>\n",
       "      <th>LDR</th>\n",
       "      <th>LAst</th>\n",
       "      <th>LTO</th>\n",
       "      <th>LStl</th>\n",
       "      <th>LBlk</th>\n",
       "      <th>LPF</th>\n",
       "    </tr>\n",
       "  </thead>\n",
       "  <tbody>\n",
       "    <tr>\n",
       "      <th>0</th>\n",
       "      <td>2003</td>\n",
       "      <td>10</td>\n",
       "      <td>1104</td>\n",
       "      <td>68</td>\n",
       "      <td>1328</td>\n",
       "      <td>62</td>\n",
       "      <td>N</td>\n",
       "      <td>0</td>\n",
       "      <td>27</td>\n",
       "      <td>58</td>\n",
       "      <td>...</td>\n",
       "      <td>10</td>\n",
       "      <td>16</td>\n",
       "      <td>22</td>\n",
       "      <td>10</td>\n",
       "      <td>22</td>\n",
       "      <td>8</td>\n",
       "      <td>18</td>\n",
       "      <td>9</td>\n",
       "      <td>2</td>\n",
       "      <td>20</td>\n",
       "    </tr>\n",
       "    <tr>\n",
       "      <th>1</th>\n",
       "      <td>2003</td>\n",
       "      <td>10</td>\n",
       "      <td>1272</td>\n",
       "      <td>70</td>\n",
       "      <td>1393</td>\n",
       "      <td>63</td>\n",
       "      <td>N</td>\n",
       "      <td>0</td>\n",
       "      <td>26</td>\n",
       "      <td>62</td>\n",
       "      <td>...</td>\n",
       "      <td>24</td>\n",
       "      <td>9</td>\n",
       "      <td>20</td>\n",
       "      <td>20</td>\n",
       "      <td>25</td>\n",
       "      <td>7</td>\n",
       "      <td>12</td>\n",
       "      <td>8</td>\n",
       "      <td>6</td>\n",
       "      <td>16</td>\n",
       "    </tr>\n",
       "    <tr>\n",
       "      <th>2</th>\n",
       "      <td>2003</td>\n",
       "      <td>11</td>\n",
       "      <td>1266</td>\n",
       "      <td>73</td>\n",
       "      <td>1437</td>\n",
       "      <td>61</td>\n",
       "      <td>N</td>\n",
       "      <td>0</td>\n",
       "      <td>24</td>\n",
       "      <td>58</td>\n",
       "      <td>...</td>\n",
       "      <td>26</td>\n",
       "      <td>14</td>\n",
       "      <td>23</td>\n",
       "      <td>31</td>\n",
       "      <td>22</td>\n",
       "      <td>9</td>\n",
       "      <td>12</td>\n",
       "      <td>2</td>\n",
       "      <td>5</td>\n",
       "      <td>23</td>\n",
       "    </tr>\n",
       "    <tr>\n",
       "      <th>3</th>\n",
       "      <td>2003</td>\n",
       "      <td>11</td>\n",
       "      <td>1296</td>\n",
       "      <td>56</td>\n",
       "      <td>1457</td>\n",
       "      <td>50</td>\n",
       "      <td>N</td>\n",
       "      <td>0</td>\n",
       "      <td>18</td>\n",
       "      <td>38</td>\n",
       "      <td>...</td>\n",
       "      <td>22</td>\n",
       "      <td>8</td>\n",
       "      <td>15</td>\n",
       "      <td>17</td>\n",
       "      <td>20</td>\n",
       "      <td>9</td>\n",
       "      <td>19</td>\n",
       "      <td>4</td>\n",
       "      <td>3</td>\n",
       "      <td>23</td>\n",
       "    </tr>\n",
       "    <tr>\n",
       "      <th>4</th>\n",
       "      <td>2003</td>\n",
       "      <td>11</td>\n",
       "      <td>1400</td>\n",
       "      <td>77</td>\n",
       "      <td>1208</td>\n",
       "      <td>71</td>\n",
       "      <td>N</td>\n",
       "      <td>0</td>\n",
       "      <td>30</td>\n",
       "      <td>61</td>\n",
       "      <td>...</td>\n",
       "      <td>16</td>\n",
       "      <td>17</td>\n",
       "      <td>27</td>\n",
       "      <td>21</td>\n",
       "      <td>15</td>\n",
       "      <td>12</td>\n",
       "      <td>10</td>\n",
       "      <td>7</td>\n",
       "      <td>1</td>\n",
       "      <td>14</td>\n",
       "    </tr>\n",
       "  </tbody>\n",
       "</table>\n",
       "<p>5 rows × 34 columns</p>\n",
       "</div>"
      ],
      "text/plain": [
       "   Season  DayNum  WTeamID  WScore  LTeamID  LScore WLoc  NumOT  WFGM  WFGA  \\\n",
       "0    2003      10     1104      68     1328      62    N      0    27    58   \n",
       "1    2003      10     1272      70     1393      63    N      0    26    62   \n",
       "2    2003      11     1266      73     1437      61    N      0    24    58   \n",
       "3    2003      11     1296      56     1457      50    N      0    18    38   \n",
       "4    2003      11     1400      77     1208      71    N      0    30    61   \n",
       "\n",
       "   ...  LFGA3  LFTM  LFTA  LOR  LDR  LAst  LTO  LStl  LBlk  LPF  \n",
       "0  ...     10    16    22   10   22     8   18     9     2   20  \n",
       "1  ...     24     9    20   20   25     7   12     8     6   16  \n",
       "2  ...     26    14    23   31   22     9   12     2     5   23  \n",
       "3  ...     22     8    15   17   20     9   19     4     3   23  \n",
       "4  ...     16    17    27   21   15    12   10     7     1   14  \n",
       "\n",
       "[5 rows x 34 columns]"
      ]
     },
     "execution_count": 1,
     "metadata": {},
     "output_type": "execute_result"
    }
   ],
   "source": [
    "import pandas as pd\n",
    "import numpy as np\n",
    "import matplotlib.pyplot as plt\n",
    "\n",
    "df = pd.read_csv('../data/MRegularSeasonDetailedResults.csv')\n",
    "df.head(5)"
   ]
  },
  {
   "cell_type": "markdown",
   "metadata": {},
   "source": [
    "# Estudio de Nuevas Variables"
   ]
  },
  {
   "cell_type": "markdown",
   "metadata": {},
   "source": [
    "Las estadísticas proporcionadas por cada equipo son:\n",
    "* FGM: Tiros de campo anotados\n",
    "* FGA: TIros de campo intentados\n",
    "* FGM3: Triples Anotados\n",
    "* FGA3: Triples intentados\n",
    "* FTM: Tiros libres anotados\n",
    "* FTA: Tiros libres intentados\n",
    "* OR: Rebites ofensivos\n",
    "* DR: Rebotes defensivos\n",
    "* Ast: Asistencias\n",
    "* TO: Perdidas de balón\n",
    "* Stl: Robos de balón\n",
    "* Blk: Bloqueos\n",
    "* PF: Faltas personales\n",
    "\n",
    "Ahora bien, de cara al análisis de un partido:\n",
    "Consideraciones:\n",
    "- Siempre ganara el equipo que tenga la suma de **FGM** + **FGM3** + **FTM** más grande\n",
    "- La columna WScore y LScore es combinación lineal de las otras 3\n",
    "\n",
    "* Una de las estadísticas más relevante es **Asists-To-Turnover-Ratio** indica por cada asistencia que das, cuantas perdidas de balón tienes\n",
    "* Otra estadistica importante es: **Margen de rebotes Ofensivos y rebotes defensivos**: De los tiros no anotados, habrá rebote, es importante saber quien gana más rebotes en porcentaje. Permite saber, de todos los rebotes que hay en el partido, cuntos consigues ganar.\n",
    "* Los tiros libres, suelen ser tiros donde lo más importante es la precisión/comportamiento bajo presión de los jugadores. Juzgar el accuracy o el porcentaje puede ser importante. De momento se deja en accuracy, estaría bien mirar si podemos deducir si hay presión o no.\n",
    "* Asistencias sobre Field Goal: Nos permetirá saber como de bien mueve un equipo el balón. De todas las anotaciones, cuantas vienen de pases/construcción del equipo\n",
    "\n",
    "\n",
    "Based on (https://www.breakthroughbasketball.com/stats/how-we-use-stats-Hagness.html)"
   ]
  },
  {
   "cell_type": "code",
   "execution_count": 2,
   "metadata": {},
   "outputs": [],
   "source": [
    "# Create a new column for Assists-TurnOver-Ratio\n",
    "df['WATR'] = df['WAst'] / df['WTO']\n",
    "df['LATR'] = df['LAst'] / df['LTO']\n",
    "\n",
    "\n",
    "# Margen de rebotes ofensivos ganados\n",
    "df['WOffR'] = df['WOR'] / (df['WOR'] + df['LDR'])\n",
    "df['LOffR'] = df['LOR'] / (df['LOR'] + df['WDR'])\n",
    "# Margen de rebotes defensivos ganados\n",
    "df['WDefR'] = df['WDR'] / (df['WDR'] + df['LOR'])\n",
    "df['LDefR'] = df['LDR'] / (df['LDR'] + df['WOR'])\n",
    "\n",
    "\n",
    "# Field Throw Accuracy (FTAcc)\n",
    "df['WFTAcc'] = df['WFTM'] / df['WFTA']\n",
    "df['LFTAcc'] = df['LFTM'] / df['LFTA']\n",
    "\n",
    "\n",
    "# Assist-Field Goal Ratio (AFGR)\n",
    "df['WAFGR'] = df['WAst'] / (df['WFGM']+df['WFGM3'])\n",
    "df['LAFGR'] = df['LAst'] / (df['LFGM']+df['LFGM3'])\n"
   ]
  },
  {
   "cell_type": "markdown",
   "metadata": {},
   "source": [
    "Ahora hemos creado nuevas columnas con los valores para cada equipo. Vamos a comprobar si la nueva información agregada al dataframe es significativa."
   ]
  },
  {
   "cell_type": "markdown",
   "metadata": {},
   "source": [
    "#### Asists2TurnOver Ratio"
   ]
  },
  {
   "cell_type": "code",
   "execution_count": 7,
   "metadata": {},
   "outputs": [
    {
     "name": "stderr",
     "output_type": "stream",
     "text": [
      "/tmp/ipykernel_19533/2232224139.py:13: SettingWithCopyWarning: \n",
      "A value is trying to be set on a copy of a slice from a DataFrame.\n",
      "Try using .loc[row_indexer,col_indexer] = value instead\n",
      "\n",
      "See the caveats in the documentation: https://pandas.pydata.org/pandas-docs/stable/user_guide/indexing.html#returning-a-view-versus-a-copy\n",
      "  plot_data['WATR-LATR'] = plot_data['WATR'] - plot_data['LATR']\n",
      "/tmp/ipykernel_19533/2232224139.py:14: SettingWithCopyWarning: \n",
      "A value is trying to be set on a copy of a slice from a DataFrame.\n",
      "Try using .loc[row_indexer,col_indexer] = value instead\n",
      "\n",
      "See the caveats in the documentation: https://pandas.pydata.org/pandas-docs/stable/user_guide/indexing.html#returning-a-view-versus-a-copy\n",
      "  plot_data[\"Class\"] = np.where(plot_data[\"WATR-LATR\"] > 0, 'red', 'blue')\n",
      "/tmp/ipykernel_19533/2232224139.py:17: UserWarning: No data for colormapping provided via 'c'. Parameters 'cmap' will be ignored\n",
      "  plt.scatter(x=plot_data['WATR'], y=plot_data['LATR'], c=plot_data['Class'], cmap='viridis')\n"
     ]
    },
    {
     "name": "stdout",
     "output_type": "stream",
     "text": [
      "El 0.7175567090947877 de los equipos que ganan tienen un WATR mayor que el LATR\n",
      "El 0.27188366635852945 de los equipos que pierden tienen un WATR menor o igual que el LATR\n"
     ]
    },
    {
     "data": {
      "image/png": "[encoded data removed]",
      "text/plain": [
       "<Figure size 1000x600 with 2 Axes>"
      ]
     },
     "metadata": {},
     "output_type": "display_data"
    },
    {
     "data": {
      "image/png": "[encoded data removed]",
      "text/plain": [
       "<Figure size 1000x600 with 1 Axes>"
      ]
     },
     "metadata": {},
     "output_type": "display_data"
    }
   ],
   "source": [
    "# Compare distributions of WATR and LATR\n",
    "f, ax = plt.subplots(figsize=(10, 6), nrows=1, ncols=2)\n",
    "#Now make a subplot inside a subplot\n",
    "\n",
    "plot_data = df[['WATR', 'LATR']]\n",
    "\n",
    "ax[0].hist(plot_data['WATR'], bins=100, alpha=0.5, label='WATR', range=(0, 5))\n",
    "ax[1].hist(plot_data['LATR'], bins=100, alpha=0.5, label='LATR', range=(0, 5))\n",
    "ax[0].set_title('WATR')\n",
    "ax[1].set_title('LATR')\n",
    "\n",
    "# Substract values and represent them ina scatterplot\n",
    "plot_data['WATR-LATR'] = plot_data['WATR'] - plot_data['LATR']\n",
    "plot_data[\"Class\"] = np.where(plot_data[\"WATR-LATR\"] > 0, 'red', 'blue')\n",
    "\n",
    "plt.figure(figsize=(10, 6))\n",
    "plt.scatter(x=plot_data['WATR'], y=plot_data['LATR'], c=plot_data['Class'], cmap='viridis')\n",
    "# Add diagonal line\n",
    "plt.plot([0, 5, 10, 15, 20, 25], [0, 5, 10, 15, 20, 25], 'k-')\n",
    "plt.xlabel('WATR')\n",
    "plt.ylabel('LATR')\n",
    "wpct = (plot_data['WATR-LATR']>0).sum()/len(plot_data['WATR-LATR'])\n",
    "lpct = (plot_data['WATR-LATR']<0).sum()/len(plot_data['WATR-LATR'])\n",
    "\n",
    "plt.text(x=20, y=12, s=f\"{round(wpct*100, 2)}%\", color='red', fontsize=30, fontweight=\"bold\")\n",
    "plt.text(x=7, y=20, s=f\"{round(lpct*100, 2)}%\", color='blue', fontsize=30, fontweight=\"bold\")\n",
    "\n",
    "print(F\"El {(plot_data['WATR-LATR']>0).sum()/len(plot_data['WATR-LATR'])} de los equipos que ganan tienen un WATR mayor que el LATR\")\n",
    "print(f\"El {(plot_data['WATR-LATR']<0).sum()/len(plot_data['WATR-LATR'])} de los equipos que pierden tienen un WATR menor o igual que el LATR\")"
   ]
  },
  {
   "cell_type": "code",
   "execution_count": null,
   "metadata": {},
   "outputs": [],
   "source": []
  },
  {
   "cell_type": "code",
   "execution_count": null,
   "metadata": {},
   "outputs": [],
   "source": [
    "class1 = plot_data[plot_data[\"Class\"] == \"red\"][[\"WATR\", \"LATR\"]].values\n",
    "class2 = plot_data[plot_data[\"Class\"] == \"blue\"][[\"WATR\", \"LATR\"]].values\n",
    "class2"
   ]
  },
  {
   "cell_type": "code",
   "execution_count": null,
   "metadata": {},
   "outputs": [],
   "source": [
    "df = df.replace([np.inf, -np.inf], np.nan)\n",
    "df[[\"WATR\", \"LATR\"]].dropna()"
   ]
  },
  {
   "cell_type": "code",
   "execution_count": null,
   "metadata": {},
   "outputs": [],
   "source": [
    "#Now make a subplot inside a subplot\n",
    "import matplotlib.pyplot as plt\n",
    "from scipy.spatial import ConvexHull\n",
    "import numpy as np\n",
    "\n",
    "df = df.replace([np.inf, -np.inf], np.nan)\n",
    "plot_data = df[['WATR', 'LATR']].dropna()\n",
    "\n",
    "# Substract values and represent them ina scatterplot\n",
    "plot_data['WATR-LATR'] = plot_data['WATR'] - plot_data['LATR']\n",
    "plot_data[\"Class\"] = np.where(plot_data[\"WATR-LATR\"] > 0, 'red', 'blue')\n",
    "\n",
    "class1 = plot_data[plot_data[\"Class\"] == \"red\"][[\"WATR\", \"LATR\"]].values\n",
    "hull1 = ConvexHull(class1)\n",
    "plt.fill(class1[hull1.vertices,0], class1[hull1.vertices,1], 'red', alpha=0.5*len(class1)/len(plot_data))\n",
    "\n",
    "class2 = plot_data[plot_data[\"Class\"] == \"blue\"][[\"WATR\", \"LATR\"]].values\n",
    "hull1 = ConvexHull(class2)\n",
    "plt.fill(class2[hull1.vertices,0], class2[hull1.vertices,1], 'blue', alpha=0.5*len(class1)/len(plot_data))\n",
    "plt.show()\n",
    "\n",
    "\n",
    "# plt.figure(figsize=(10, 6))\n",
    "# #plt.scatter(x=plot_data['WATR'], y=plot_data['LATR'], c=plot_data['Class'], cmap='viridis')\n",
    "# # Add diagonal line\n",
    "# plt.plot([0, 5, 10, 15, 20, 25], [0, 5, 10, 15, 20, 25], 'k-')\n",
    "# plt.xlabel('WATR')\n",
    "# plt.ylabel('LATR')\n",
    "\n",
    "# print(F\"El {(plot_data['WATR-LATR']>0).sum()/len(plot_data['WATR-LATR'])} de los equipos que ganan tienen un WATR mayor que el LATR\")\n",
    "# print(f\"El {(plot_data['WATR-LATR']<0).sum()/len(plot_data['WATR-LATR'])} de los equipos que pierden tienen un WATR menor o igual que el LATR\")\n",
    "\n",
    "\n",
    "# Assuming you have two classes of points\n",
    "class1_points = np.random.rand(30, 2)   # replace with your data\n",
    "# class2_points = np.random.rand(30, 2)   # replace with your data\n",
    "\n",
    "# # Scatter plot\n",
    "# #plt.scatter(class1_points[:,0], class1_points[:,1], color='blue')\n",
    "# #plt.scatter(class2_points[:,0], class2_points[:,1], color='red')\n",
    "\n",
    "# # Convex hull for class 1\n",
    "# plt.fill(class1_points[hull1.vertices,0], class1_points[hull1.vertices,1], 'blue', alpha=0.3)\n",
    "\n",
    "# # Convex hull for class 2\n",
    "# hull2 = ConvexHull(class2_points)\n",
    "# plt.fill(class2_points[hull2.vertices,0], class2_points[hull2.vertices,1], 'red', alpha=0.3)\n",
    "\n",
    "# plt.show()"
   ]
  },
  {
   "cell_type": "markdown",
   "metadata": {},
   "source": [
    "#### Offensive and Deffensive Rebound Ratio"
   ]
  },
  {
   "cell_type": "markdown",
   "metadata": {},
   "source": [
    "##### Ofensivo vs Defensivo"
   ]
  },
  {
   "cell_type": "code",
   "execution_count": null,
   "metadata": {},
   "outputs": [],
   "source": [
    "# Compare distributions of WATR and LATR\n",
    "f, ax = plt.subplots(figsize=(10, 6), nrows=1, ncols=2)\n",
    "#Now make a subplot inside a subplot\n",
    "\n",
    "ax[0].hist(df['WOffR'], bins=100, alpha=0.5, label='WOffR', range=(0, 1))\n",
    "ax[1].hist(df['LOffR'], bins=100, alpha=0.5, label='LOffR', range=(0, 1))\n",
    "ax[0].set_title('WOffR')\n",
    "ax[1].set_title('LOffR')\n",
    "\n",
    "# Substract values and represent them ina scatterplot\n",
    "df['WOffR-LOffR'] = df['WOffR'] - df['LOffR']\n",
    "plt.figure(figsize=(10, 6))\n",
    "plt.scatter(x=df['WOffR'], y=df['LOffR'], c=df['WOffR-LOffR'], cmap='viridis')\n",
    "# Add diagonal line\n",
    "plt.plot([0, 1], [0, 1], 'k-')\n",
    "plt.xlabel('WOffR')\n",
    "plt.ylabel('LOffR')\n",
    "\n",
    "print(F\"El {(df['WOffR-LOffR']>0).sum()/len(df['WOffR-LOffR'])} de los equipos que ganan tienen un WOffR mayor que el LOffR\")\n",
    "print(f\"El {(df['WOffR-LOffR']<0).sum()/len(df['WOffR-LOffR'])} de los equipos que pierden tienen un WOffR menor o igual que el LOffR\")"
   ]
  },
  {
   "cell_type": "markdown",
   "metadata": {},
   "source": [
    "##### Ofensivo vs Defensivo"
   ]
  },
  {
   "cell_type": "code",
   "execution_count": null,
   "metadata": {},
   "outputs": [],
   "source": [
    "# Compare distributions of WATR and LATR\n",
    "f, ax = plt.subplots(figsize=(10, 6), nrows=1, ncols=2)\n",
    "#Now make a subplot inside a subplot\n",
    "\n",
    "ax[0].hist(df['WOffR'], bins=100, alpha=0.5, label='WOffR', range=(0, 1))\n",
    "ax[1].hist(df['LDefR'], bins=100, alpha=0.5, label='LDefR', range=(0, 1))\n",
    "ax[0].set_title('WOffR')\n",
    "ax[1].set_title('LDefR')\n",
    "\n",
    "# Substract values and represent them ina scatterplot\n",
    "df['WOffR-LDefR'] = df['WOffR'] - df['LDefR']\n",
    "plt.figure(figsize=(10, 6))\n",
    "plt.scatter(x=list(range(len(df))), y=df['WOffR-LDefR'], c=df['WOffR-LDefR'], cmap='viridis')\n",
    "# Add diagonal line\n",
    "plt.plot([0, 120_000], [0, 0], 'k-')\n",
    "plt.xlabel('game')\n",
    "plt.ylabel('Diferencia WOffR-LDefR')\n",
    "\n",
    "print(F\"El {(df['WOffR-LDefR']>0).sum()/len(df['WOffR-LDefR'])} el equipo ganador tiene un OffR mayor que el DefR del equipo perdedor\")\n",
    "print(f\"El {(df['WOffR-LDefR']<0).sum()/len(df['WOffR-LDefR'])} el equipo perdedor tiene un LDefR mayor o igual que el WOffR\")"
   ]
  },
  {
   "cell_type": "markdown",
   "metadata": {},
   "source": [
    "Teniendo en cuenta que el equipo ganador pocas veces obtienen más rebotes en ataque que el defensor, no se mirara el caso contrario."
   ]
  },
  {
   "cell_type": "markdown",
   "metadata": {},
   "source": [
    "##### Defensivo vs Defensivo"
   ]
  },
  {
   "cell_type": "code",
   "execution_count": null,
   "metadata": {},
   "outputs": [],
   "source": [
    "# Compare distributions of WATR and LATR\n",
    "f, ax = plt.subplots(figsize=(10, 6), nrows=1, ncols=2)\n",
    "#Now make a subplot inside a subplot\n",
    "\n",
    "ax[0].hist(df['WDefR'], bins=100, alpha=0.5, label='WDefR', range=(0, 1))\n",
    "ax[1].hist(df['LDefR'], bins=100, alpha=0.5, label='LDefR', range=(0, 1))\n",
    "ax[0].set_title('WDefR')\n",
    "ax[1].set_title('LDefR')\n",
    "\n",
    "# Substract values and represent them ina scatterplot\n",
    "df['WDefR-LDefR'] = df['WDefR'] - df['LDefR']\n",
    "plt.figure(figsize=(10, 6))\n",
    "plt.scatter(x=list(range(len(df))), y=df['WDefR-LDefR'], c=df['WDefR-LDefR'], cmap='viridis')\n",
    "# Add diagonal line\n",
    "plt.plot([0, 120_000], [0, 0], 'k-')\n",
    "plt.xlabel('game')\n",
    "plt.ylabel('Diferencia WDefR-LDefR')\n",
    "\n",
    "print(F\"El {(df['WDefR-LDefR']>0).sum()/len(df['WDefR-LDefR'])} el equipo ganador tiene un más DefR mayor que el DefR del equipo perdedor\")\n",
    "print(f\"El {(df['WDefR-LDefR']<0).sum()/len(df['WDefR-LDefR'])} el equipo perdedor tiene un DefR mayor o igual que el DefR del equipo ganador\")"
   ]
  },
  {
   "cell_type": "markdown",
   "metadata": {},
   "source": [
    "Esta comparación nos sirve para ver que los calculos realizados se han hecho de manera correcta."
   ]
  },
  {
   "cell_type": "markdown",
   "metadata": {},
   "source": [
    "#### Free Throw"
   ]
  },
  {
   "cell_type": "markdown",
   "metadata": {},
   "source": [
    "##### Comprobación a nivel global"
   ]
  },
  {
   "cell_type": "code",
   "execution_count": null,
   "metadata": {},
   "outputs": [],
   "source": [
    "# Check how important is free throw ratio\n",
    "\n",
    "# Compare distributions of WATR and LFTAcc\n",
    "f, ax = plt.subplots(figsize=(10, 6), nrows=1, ncols=2)\n",
    "#Now make a subplot inside a subplot\n",
    "\n",
    "ax[0].hist(df['WFTAcc'], bins=100, alpha=0.5, label='WFTAcc', range=(0, 1))\n",
    "ax[1].hist(df['LFTAcc'], bins=100, alpha=0.5, label='LFTAcc', range=(0, 1))\n",
    "ax[0].set_title('WFTAcc')\n",
    "ax[1].set_title('LFTAcc')\n",
    "\n",
    "# Substract values and represent them ina scatterplot\n",
    "df['WFTAcc-LFTAcc'] = df['WFTAcc'] - df['LFTAcc']\n",
    "plt.figure(figsize=(10, 6))\n",
    "plt.scatter(x=df['WFTAcc'], y=df['LFTAcc'], c=df['WFTAcc-LFTAcc'], cmap='viridis')\n",
    "# Add diagonal line\n",
    "plt.plot([0, 1], [0, 1], 'k-')\n",
    "plt.xlabel('WFTAcc')\n",
    "plt.ylabel('LFTAcc')\n",
    "\n",
    "print(F\"El {(df['WFTAcc-LFTAcc']>0).sum()/len(df['WFTAcc-LFTAcc'])} de los equipos que ganan tienen un WFTAcc mayor que el LFTAcc\")\n",
    "print(f\"El {(df['WFTAcc-LFTAcc']<0).sum()/len(df['WFTAcc-LFTAcc'])} de los equipos que pierden tienen un WATR menor o igual que el LFTAcc\")"
   ]
  },
  {
   "cell_type": "markdown",
   "metadata": {},
   "source": [
    "##### Comprobación en partidos ajustados"
   ]
  },
  {
   "cell_type": "code",
   "execution_count": null,
   "metadata": {},
   "outputs": [],
   "source": [
    "# Check how important is free throw ratio\n",
    "df[\"Result\"] = df[\"WScore\"] - df[\"LScore\"]\n",
    "df_close_game = df[df[\"Result\"] < 5]\n",
    "\n",
    "# Compare distributions of WATR and LFTAcc\n",
    "f, ax = plt.subplots(figsize=(10, 6), nrows=1, ncols=2)\n",
    "\n",
    "#Now make a subplot inside a subplot\n",
    "ax[0].hist(df_close_game['WFTAcc'], bins=100, alpha=0.5, label='WFTAcc', range=(0, 1))\n",
    "ax[1].hist(df_close_game['LFTAcc'], bins=100, alpha=0.5, label='LFTAcc', range=(0, 1))\n",
    "ax[0].set_title('WFTAcc')\n",
    "ax[1].set_title('LFTAcc')\n",
    "\n",
    "# Substract values and represent them ina scatterplot\n",
    "df_close_game['WFTAcc-LFTAcc'] = df_close_game['WFTAcc'] - df_close_game['LFTAcc']\n",
    "plt.figure(figsize=(10, 6))\n",
    "plt.scatter(x=df_close_game['WFTAcc'], y=df_close_game['LFTAcc'], c=df_close_game['WFTAcc-LFTAcc'], cmap='viridis')\n",
    "# Add diagonal line\n",
    "plt.plot([0, 1], [0, 1], 'k-')\n",
    "plt.xlabel('WFTAcc')\n",
    "plt.ylabel('LFTAcc')\n",
    "\n",
    "print(F\"El {(df_close_game['WFTAcc-LFTAcc']>0).sum()/len(df_close_game['WFTAcc-LFTAcc'])} de los equipos que ganan tienen un WFTAcc mayor que el LFTAcc\")\n",
    "print(f\"El {(df_close_game['WFTAcc-LFTAcc']<0).sum()/len(df_close_game['WFTAcc-LFTAcc'])} de los equipos que pierden tienen un WATR menor o igual que el LFTAcc\")"
   ]
  },
  {
   "cell_type": "markdown",
   "metadata": {},
   "source": [
    "Haciendo distintas exploraciones, de lo que es un *close game* podemos apreciar como los free throws no nos dan mucha información de quien puede llegar a ser el ganador de un partido, tanto en un partido desigualado, como en un partido de maxima igualdad"
   ]
  },
  {
   "cell_type": "markdown",
   "metadata": {},
   "source": [
    "#### Asist Field Goal Ratio"
   ]
  },
  {
   "cell_type": "code",
   "execution_count": null,
   "metadata": {},
   "outputs": [],
   "source": [
    "# Compare distributions of WATR and LAFGR\n",
    "f, ax = plt.subplots(figsize=(10, 6), nrows=1, ncols=2)\n",
    "#Now make a subplot inside a subplot\n",
    "\n",
    "ax[0].hist(df['WAFGR'], bins=100, alpha=0.5, label='WAFGR', range=(0, 1))\n",
    "ax[1].hist(df['LAFGR'], bins=100, alpha=0.5, label='LAFGR', range=(0, 1))\n",
    "ax[0].set_title('WAFGR')\n",
    "ax[1].set_title('LAFGR')\n",
    "\n",
    "# Substract values and represent them ina scatterplot\n",
    "df['WAFGR-LAFGR'] = df['WAFGR'] - df['LAFGR']\n",
    "plt.figure(figsize=(10, 6))\n",
    "plt.scatter(x=df['WAFGR'], y=df['LAFGR'], c=df['WAFGR-LAFGR'], cmap='viridis')\n",
    "# Add diagonal line\n",
    "plt.plot([0, 1], [0, 1], 'k-')\n",
    "plt.xlabel('WAFGR')\n",
    "plt.ylabel('LAFGR')\n",
    "\n",
    "print(F\"El {(df['WAFGR-LAFGR']>0).sum()/len(df['WAFGR-LAFGR'])} de los equipos que ganan tienen un WAFGR mayor que el LAFGR\")\n",
    "print(f\"El {(df['WAFGR-LAFGR']<0).sum()/len(df['WAFGR-LAFGR'])} de los equipos que pierden tienen un WAFGR menor o igual que el LAFGR\")"
   ]
  },
  {
   "cell_type": "markdown",
   "metadata": {},
   "source": [
    "# Estudio de otras variables"
   ]
  },
  {
   "cell_type": "markdown",
   "metadata": {},
   "source": [
    "\n",
    "Hipotesis:\n",
    "* Cundo se domina 3 de las 5 categorias es dificil perder (%FG, %FT, Rebouds, TO, Ataques).\n",
    "* El equipo con el mayor field goal percentage es victorioso 70%\n",
    "* El equipo que obtiene más rebote es victorioso\n",
    "* El equipo que más falta comete solo es ganador un 25% de las ocasiones\n",
    "  \n",
    "\n",
    "\n",
    "\n",
    "Basado en (https://www.stacknj.com/2021/11/07/most-important-statistics-in-winning-basketball-games/)"
   ]
  },
  {
   "cell_type": "markdown",
   "metadata": {},
   "source": [
    "#### Field Goal Percentage\n",
    "\n",
    "Incluye tiros normales y tiros de 3.\n",
    "Observando la siguiente celda, podemos ver, como en tener una mayor precisión en los tiros de campo, supone acabar ganando un partido en el **81%** de las ocasiones"
   ]
  },
  {
   "cell_type": "code",
   "execution_count": null,
   "metadata": {},
   "outputs": [],
   "source": [
    "# Columna porcentaje field goals\n",
    "df['WFGP'] = (df['WFGM']+df['WFGM3']) / (df['WFGA']+df['WFGA3'])\n",
    "df['LFGP'] = (df['LFGM']+df['LFGM3']) / (df['LFGA']+df['LFGA3'])\n",
    "\n",
    "# Compare distributions of WATR and LFGP\n",
    "f, ax = plt.subplots(figsize=(10, 6), nrows=1, ncols=2)\n",
    "#Now make a subplot inside a subplot\n",
    "\n",
    "ax[0].hist(df['WFGP'], bins=100, alpha=0.5, label='WFGP', range=(0, 1))\n",
    "ax[1].hist(df['LFGP'], bins=100, alpha=0.5, label='LFGP', range=(0, 1))\n",
    "ax[0].set_title('WFGP')\n",
    "ax[1].set_title('LFGP')\n",
    "\n",
    "# Substract values and represent them ina scatterplot\n",
    "df['WFGP-LFGP'] = df['WFGP'] - df['LFGP']\n",
    "plt.figure(figsize=(10, 6))\n",
    "plt.scatter(x=df['WFGP'], y=df['LFGP'], c=df['WFGP-LFGP'], cmap='viridis')\n",
    "# Add diagonal line\n",
    "plt.plot([0, 1], [0, 1], 'k-')\n",
    "plt.xlabel('WFGP')\n",
    "plt.ylabel('LFGP')\n",
    "\n",
    "print(F\"El {(df['WFGP-LFGP']>0).sum()/len(df['WFGP-LFGP'])} de los equipos que ganan tienen un FGP mayor que el LFGP\")\n",
    "print(f\"El {(df['WFGP-LFGP']<0).sum()/len(df['WFGP-LFGP'])} de los equipos que pierden tienen un WFGP menor o igual que el LFGP\")"
   ]
  },
  {
   "cell_type": "markdown",
   "metadata": {},
   "source": [
    "### Rebotes\n",
    "\n",
    "Para saber si un equipo domina los rebotes, calcularemos el porcentaje de rebotes que recuperan. El objetivo es determinar si capturando más rebotes en ambas facetas del juego nos ayuda a determinar quien se alza con la victoria.\n",
    "\n",
    "Conclusiión, dominar la estadistica de los rebotes esta relacionada con el **65%** de los casos victoriosos"
   ]
  },
  {
   "cell_type": "code",
   "execution_count": null,
   "metadata": {},
   "outputs": [],
   "source": [
    "df['WAllR'] = (df['WOR']+df['WDR']) / (df['WOR']+df['WDR']+df['LOR']+df['LDR'])\n",
    "df['LAllR'] = 1 - df['WAllR']\n",
    "\n",
    "ax[0].hist(df['WAllR'], bins=100, alpha=0.5, label='WAllR', range=(0, 1))\n",
    "ax[1].hist(df['LAllR'], bins=100, alpha=0.5, label='LAllR', range=(0, 1))\n",
    "ax[0].set_title('WAllR')\n",
    "ax[1].set_title('LAllR')\n",
    "\n",
    "df['WAllR-LAllR'] = df['WAllR'] - df['LAllR']\n",
    "# Substract values and represent them ina scatterplot\n",
    "plt.figure(figsize=(10, 6))\n",
    "plt.scatter(x=list(range(len(df))), y=df['WAllR-LAllR'], c=df['WAllR-LAllR'], cmap='viridis')\n",
    "# Add diagonal line\n",
    "plt.plot([0, 120_000], [0, 0], 'k-')\n",
    "plt.xlabel('game')\n",
    "plt.ylabel('Diferencia WAllR-LAllR')\n",
    "print(F\"El {(df['WAllR-LAllR']>-0.1).sum()/len(df['WAllR-LAllR'])} de los equipos que ganan tienen un FGP mayor que el FGP\")\n",
    "print(f\"El {(df['WAllR-LAllR']<-0.1).sum()/len(df['WAllR-LAllR'])} de los equipos que pierden tienen un WAllR menor o igual que el LAllR\")"
   ]
  },
  {
   "cell_type": "markdown",
   "metadata": {},
   "source": [
    "### Turnovers\n",
    "\n",
    "En el **56%** de los partidos el equipo perdedor ha tenido más turnovers que el equipo ganador"
   ]
  },
  {
   "cell_type": "code",
   "execution_count": null,
   "metadata": {},
   "outputs": [],
   "source": [
    "df['WTOR'] = df['WTO'] / (df['WTO']+df['LTO'])\n",
    "df['LTOR'] = df['LTO'] / (df['WTO']+df['LTO'])\n",
    "\n",
    "df['WTOR-LTOR'] = df['WTOR'] - df['LTOR']\n",
    "\n",
    "plt.figure(figsize=(10, 6))\n",
    "plt.scatter(x=list(range(len(df))), y=df['WTOR-LTOR'], c=df['WTOR-LTOR'], cmap='viridis')\n",
    "# Add diagonal line\n",
    "plt.plot([0, 120_000], [0, 0], 'k-')\n",
    "plt.xlabel('game')\n",
    "plt.ylabel('Diferencia WTOR-LTOR')\n",
    "print(F\"El {(df['WTOR-LTOR']>0).sum()/len(df['WTOR-LTOR'])} de los equipos que ganan tienen un FGP mayor que el FGP\")\n",
    "print(f\"El {(df['WTOR-LTOR']<0).sum()/len(df['WTOR-LTOR'])} de los equipos que pierden tienen un WAllR menor o igual que el LAllR\")"
   ]
  },
  {
   "cell_type": "markdown",
   "metadata": {},
   "source": [
    "#### Personal Foults"
   ]
  },
  {
   "cell_type": "code",
   "execution_count": null,
   "metadata": {},
   "outputs": [],
   "source": [
    "df['WPFR'] = df['WPF'] / (df['WPF']+df['LPF'])\n",
    "df['LPFR'] = df['LPF'] / (df['WPF']+df['LPF'])\n",
    "\n",
    "df['WPFR-LPFR'] = df['WPFR'] - df['LPFR']\n",
    "\n",
    "plt.figure(figsize=(10, 6))\n",
    "plt.scatter(x=list(range(len(df))), y=df['WPFR-LPFR'], c=df['WPFR-LPFR'], cmap='viridis')\n",
    "# Add diagonal line\n",
    "plt.plot([0, 120_000], [0, 0], 'k-')\n",
    "plt.xlabel('game')\n",
    "plt.ylabel('Diferencia WPFR-LPFR')\n",
    "print(F\"El {(df['WPFR-LPFR']<0).sum()/len(df['WPFR-LPFR'])} de los equipos que ganan tienen un FGP mayor que el FGP\")\n",
    "print(f\"El {(df['WPFR-LPFR']>0).sum()/len(df['WPFR-LPFR'])} de los equipos que pierden tienen un WAllR menor o igual que el LAllR\")"
   ]
  },
  {
   "cell_type": "markdown",
   "metadata": {},
   "source": [
    "#### Steal to personal Faults ratio"
   ]
  },
  {
   "cell_type": "code",
   "execution_count": null,
   "metadata": {},
   "outputs": [],
   "source": [
    "df['WStl2PFR'] = df['WStl'] / (df['WPF'])\n",
    "df['LStl2PFR'] = df['LStl'] / (df['WPF'])\n",
    "\n",
    "df['WStl2PFR-LStl2PFR'] = df['WStl2PFR'] - df['LStl2PFR']\n",
    "\n",
    "print(F\"El {(df['WStl2PFR-LStl2PFR']<0).sum()/len(df['WStl2PFR-LStl2PFR'])} de los equipos que ganan tienen un FGP mayor que el FGP\")\n",
    "print(f\"El {(df['WStl2PFR-LStl2PFR']>0).sum()/len(df['WStl2PFR-LStl2PFR'])} de los equipos que pierden tienen un WAllR menor o igual que el LAllR\")"
   ]
  },
  {
   "cell_type": "markdown",
   "metadata": {},
   "source": [
    "### Determinamos si siendo superior en 3 de las 5 te permite ganar el partido\n",
    "En el **53%** de los partidos el equipo ganador ha conseguido ser superior en Porcentaje de Field Goals y en Rebotes defensivos/ofensivos"
   ]
  },
  {
   "cell_type": "code",
   "execution_count": null,
   "metadata": {},
   "outputs": [],
   "source": [
    "df[(df['WFGP-LFGP'] > 0) &  (df['WAllR-LAllR'] > 0)].shape[0] / df.shape[0]"
   ]
  },
  {
   "cell_type": "markdown",
   "metadata": {},
   "source": [
    "# Generación de ranking por cada estadística\n",
    "Pipeline:\n",
    "1. Iterar dataset por season\n",
    "2. Omitir los primeros 5 partidos de cada equipo\n",
    "3. Por cada enfrentamiento generar:\n",
    "   1. Las medias, de lo que lleva de temporada en cada registro estadístico previo al partido\n",
    "      - Escalar el valor\n",
    "      - Construir Ranking\n",
    "4. Esto genera la siguiente tabla:\n",
    "\n",
    "\n",
    "\n",
    "| TeamA | AggFGM_A (0-1) | AggFGA3_A (0-1) | .... | TeamB | AggFGM_B (0-1) | AggFGM_B (0-1)|\n",
    "|-------|----------------|-----------------|------|-------|----------------|---------------|\n",
    "| ... | ... | ... | ... | ... | ... | ... |"
   ]
  },
  {
   "cell_type": "code",
   "execution_count": null,
   "metadata": {},
   "outputs": [],
   "source": []
  },
  {
   "cell_type": "markdown",
   "metadata": {},
   "source": [
    "# Detectar rachas por equipos"
   ]
  },
  {
   "cell_type": "code",
   "execution_count": null,
   "metadata": {},
   "outputs": [],
   "source": []
  },
  {
   "cell_type": "markdown",
   "metadata": {},
   "source": [
    "# Predicción de estaditicas\n",
    "Desarrollar un Pipeline, que en función de que suele intentar un equipo/como suele jugar (independientemente de si le sale o no) se capaz de generar una predicción de como serán dichas estadísticas para un enfrentamiento en concreto\n",
    "\n",
    "A partir de la predicción de estadísticas determinar quien será el ganador...."
   ]
  },
  {
   "cell_type": "code",
   "execution_count": null,
   "metadata": {},
   "outputs": [],
   "source": []
  }
 ],
 "metadata": {
  "kernelspec": {
   "display_name": "venv",
   "language": "python",
   "name": "python3"
  },
  "language_info": {
   "codemirror_mode": {
    "name": "ipython",
    "version": 3
   },
   "file_extension": ".py",
   "mimetype": "text/x-python",
   "name": "python",
   "nbconvert_exporter": "python",
   "pygments_lexer": "ipython3",
   "version": "3.10.12"
  }
 },
 "nbformat": 4,
 "nbformat_minor": 2
}
